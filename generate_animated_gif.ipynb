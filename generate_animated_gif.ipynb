{
  "nbformat": 4,
  "nbformat_minor": 0,
  "metadata": {
    "colab": {
      "name": "generate-animated-gif.ipynb",
      "provenance": [],
      "collapsed_sections": [],
      "authorship_tag": "ABX9TyNVhm+wvDa/AMURm76rZDUW",
      "include_colab_link": true
    },
    "kernelspec": {
      "name": "python3",
      "display_name": "Python 3"
    },
    "language_info": {
      "name": "python"
    }
  },
  "cells": [
    {
      "cell_type": "markdown",
      "metadata": {
        "id": "view-in-github",
        "colab_type": "text"
      },
      "source": [
        "<a href=\"https://colab.research.google.com/github/Uemerson/image-registration-tests/blob/main/generate_animated_gif.ipynb\" target=\"_parent\"><img src=\"https://colab.research.google.com/assets/colab-badge.svg\" alt=\"Open In Colab\"/></a>"
      ]
    },
    {
      "cell_type": "code",
      "source": [
        "import glob\n",
        "import os.path\n",
        "import imageio\n",
        "\n",
        "\n",
        "past_files = glob.glob(\"to_gif/past/*.jpg\") + glob.glob(\"to_gif/past/*.png\")\n",
        "for past_file in past_files:\n",
        "    current_file = past_file.replace(\"to_gif/past/\", \"to_gif/current/\")\n",
        "    if os.path.exists(current_file):\n",
        "      fp_out = current_file.replace(\"to_gif/current/\", \"\").replace(\".jpg\", \"\").replace(\".png\", \"\")\n",
        "      with imageio.get_writer(f'to_gif/results/{fp_out}.gif', mode='I', duration=0.5) as writer:\n",
        "          past_image = imageio.imread(past_file)\n",
        "          current_image = imageio.imread(current_file)\n",
        "          writer.append_data(past_image)\n",
        "          writer.append_data(current_image)\n",
        "    else:\n",
        "      print(f'file {current_file} not exits')"
      ],
      "metadata": {
        "id": "VCIIY0Co1hDF"
      },
      "execution_count": 29,
      "outputs": []
    }
  ]
}