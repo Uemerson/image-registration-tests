{
  "nbformat": 4,
  "nbformat_minor": 0,
  "metadata": {
    "colab": {
      "name": "download-dataset-google-earth.ipynb",
      "provenance": [],
      "collapsed_sections": [],
      "authorship_tag": "ABX9TyOS7H7gXfZdLOb3GWH1guqC",
      "include_colab_link": true
    },
    "kernelspec": {
      "name": "python3",
      "display_name": "Python 3"
    },
    "language_info": {
      "name": "python"
    }
  },
  "cells": [
    {
      "cell_type": "markdown",
      "metadata": {
        "id": "view-in-github",
        "colab_type": "text"
      },
      "source": [
        "<a href=\"https://colab.research.google.com/github/Uemerson/voxelmorph-tests/blob/main/download_dataset_google_earth.ipynb\" target=\"_parent\"><img src=\"https://colab.research.google.com/assets/colab-badge.svg\" alt=\"Open In Colab\"/></a>"
      ]
    },
    {
      "cell_type": "markdown",
      "source": [
        "# Description of dataset\n",
        "\n",
        "Multi-temporal image pairs consisted of the image pairs which were taken at different times (2019, 2017, and 2015) and by different sensors (Landsat-7, Landsat-8, WorldView, and QuickBird).\n",
        "\n",
        "# Reference and credits\n",
        "\n",
        "Dataset used at work: [A Two-Stream Symmetric Network with Bidirectional Ensemble for Aerial Image Matching](https://www.mdpi.com/2072-4292/12/3/465). Github [here](https://github.com/jaehyunnn/DeepAerialMatching_pytorch)."
      ],
      "metadata": {
        "id": "SBeCpJsUmFfi"
      }
    },
    {
      "cell_type": "code",
      "source": [
        "!pip install gdown"
      ],
      "metadata": {
        "colab": {
          "base_uri": "https://localhost:8080/"
        },
        "id": "iVY2qWrabX1Q",
        "outputId": "455e28b8-4f3c-463d-d73b-bdf74ae77b6c"
      },
      "execution_count": null,
      "outputs": [
        {
          "output_type": "stream",
          "name": "stdout",
          "text": [
            "Requirement already satisfied: gdown in /usr/local/lib/python3.7/dist-packages (4.4.0)\n",
            "Requirement already satisfied: tqdm in /usr/local/lib/python3.7/dist-packages (from gdown) (4.64.0)\n",
            "Requirement already satisfied: beautifulsoup4 in /usr/local/lib/python3.7/dist-packages (from gdown) (4.6.3)\n",
            "Requirement already satisfied: six in /usr/local/lib/python3.7/dist-packages (from gdown) (1.15.0)\n",
            "Requirement already satisfied: requests[socks] in /usr/local/lib/python3.7/dist-packages (from gdown) (2.23.0)\n",
            "Requirement already satisfied: filelock in /usr/local/lib/python3.7/dist-packages (from gdown) (3.7.0)\n",
            "Requirement already satisfied: urllib3!=1.25.0,!=1.25.1,<1.26,>=1.21.1 in /usr/local/lib/python3.7/dist-packages (from requests[socks]->gdown) (1.24.3)\n",
            "Requirement already satisfied: idna<3,>=2.5 in /usr/local/lib/python3.7/dist-packages (from requests[socks]->gdown) (2.10)\n",
            "Requirement already satisfied: chardet<4,>=3.0.2 in /usr/local/lib/python3.7/dist-packages (from requests[socks]->gdown) (3.0.4)\n",
            "Requirement already satisfied: certifi>=2017.4.17 in /usr/local/lib/python3.7/dist-packages (from requests[socks]->gdown) (2021.10.8)\n",
            "Requirement already satisfied: PySocks!=1.5.7,>=1.5.6 in /usr/local/lib/python3.7/dist-packages (from requests[socks]->gdown) (1.7.1)\n"
          ]
        }
      ]
    },
    {
      "cell_type": "code",
      "execution_count": null,
      "metadata": {
        "id": "eZd20DnyKTrd",
        "colab": {
          "base_uri": "https://localhost:8080/"
        },
        "outputId": "03049e7f-fb17-454d-afa9-aba79dc0c0c5"
      },
      "outputs": [
        {
          "output_type": "stream",
          "name": "stderr",
          "text": [
            "Downloading...\n",
            "From: https://drive.google.com/uc?id=1h6opbXMpdxL5KhsLMO3flKYtLOoSs0oI\n",
            "To: /content/datasets/train/current/current-dataset.zip\n",
            "100%|██████████| 1.74G/1.74G [00:11<00:00, 152MB/s]\n",
            "Downloading...\n",
            "From: https://drive.google.com/uc?id=1aJi58H3EscOYqF6C_KLsKMDrb1XSgor2\n",
            "To: /content/datasets/train/past/past-dataset.zip\n",
            "100%|██████████| 1.86G/1.86G [00:12<00:00, 147MB/s]\n",
            "Downloading...\n",
            "From: https://drive.google.com/uc?id=1DCYxMKPVrpx13vErOoeApVExPdZnMNLp\n",
            "To: /content/datasets/eval/googleearth_pck/googleearth_pck-dataset.zip\n",
            "100%|██████████| 199M/199M [00:01<00:00, 173MB/s]\n"
          ]
        }
      ],
      "source": [
        "from os.path import exists, join, basename\n",
        "from os import makedirs, remove\n",
        "import gdown\n",
        "\n",
        "def download_train(datapath):\n",
        "  if not exists(datapath):\n",
        "      makedirs(datapath)\n",
        "\n",
        "  dest_current = f'{datapath}/current'\n",
        "  dest_past = f'{datapath}/past'\n",
        "\n",
        "  if not exists(dest_current):\n",
        "      makedirs(dest_current)\n",
        "      gdown.download(f'https://drive.google.com/uc?id=1h6opbXMpdxL5KhsLMO3flKYtLOoSs0oI', f'{dest_current}/current-dataset.zip', quiet=False)\n",
        "\n",
        "  if not exists(dest_past):\n",
        "      makedirs(dest_past)\n",
        "      gdown.download(f'https://drive.google.com/uc?id=1aJi58H3EscOYqF6C_KLsKMDrb1XSgor2', f'{dest_past}/past-dataset.zip', quiet=False)\n",
        "      \n",
        "\n",
        "def download_eval(datapath):\n",
        "  if not exists(datapath):\n",
        "      makedirs(datapath)\n",
        "\n",
        "  dest = datapath + '/googleearth_pck'\n",
        "\n",
        "  if not exists(dest):\n",
        "      makedirs(dest)\n",
        "      gdown.download(f'https://drive.google.com/uc?id=1DCYxMKPVrpx13vErOoeApVExPdZnMNLp', f'{dest}/googleearth_pck-dataset.zip', quiet=False)\n",
        "\n",
        "download_train_path = 'datasets/train'\n",
        "download_eval_path = 'datasets/eval'\n",
        "\n",
        "download_train(download_train_path)\n",
        "download_eval(download_eval_path)"
      ]
    },
    {
      "cell_type": "markdown",
      "source": [
        "# Connect with google drive"
      ],
      "metadata": {
        "id": "GanFqFcjzO_a"
      }
    },
    {
      "cell_type": "code",
      "source": [
        "from google.colab import drive\n",
        "\n",
        "# mount drive\n",
        "drive.mount('/content/gdrive')"
      ],
      "metadata": {
        "colab": {
          "base_uri": "https://localhost:8080/"
        },
        "id": "JfjuxFQdzFS3",
        "outputId": "ceda2603-6154-4331-d2cc-4bf2a4e481bf"
      },
      "execution_count": null,
      "outputs": [
        {
          "output_type": "stream",
          "name": "stdout",
          "text": [
            "Mounted at /content/gdrive\n"
          ]
        }
      ]
    },
    {
      "cell_type": "code",
      "source": [
        "# save best model on google drive\n",
        "!cp \"datasets/train/current/current-dataset.zip\" \"/content/gdrive/My Drive/Colab Notebooks/image-registration/datasets/current-dataset.zip\"\n",
        "!cp \"datasets/train/past/past-dataset.zip\" \"/content/gdrive/My Drive/Colab Notebooks/image-registration/datasets/past-dataset.zip\"\n",
        "!cp \"datasets/eval/googleearth_pck/googleearth_pck-dataset.zip\" \"/content/gdrive/My Drive/Colab Notebooks/image-registration/datasets/googleearth_pck-dataset.zip\""
      ],
      "metadata": {
        "id": "Ab3A9B5bzdXw"
      },
      "execution_count": null,
      "outputs": []
    },
    {
      "cell_type": "code",
      "source": [
        "!unzip \"datasets/train/current/current-dataset.zip\" -d \"datasets/train/current/\"\n",
        "!unzip \"datasets/train/past/past-dataset.zip\" -d \"datasets/train/past/\"\n",
        "!unzip \"datasets/eval/googleearth_pck/googleearth_pck-dataset.zip\" -d \"datasets/eval/googleearth_pck/\""
      ],
      "metadata": {
        "id": "BtycU0lyK3-P"
      },
      "execution_count": null,
      "outputs": []
    }
  ]
}